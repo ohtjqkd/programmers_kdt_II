{
 "cells": [
  {
   "cell_type": "markdown",
   "id": "going-variety",
   "metadata": {},
   "source": [
    "## Titanic Data Science Solutions\n",
    "\n",
    "\n",
    "**this notebook is a companion to the book Data Science Solutions**\n",
    "The notebook walks us through a typical workflow for solving data science competitions at sites like Kaggle.\n",
    "\n",
    "There are several excellent notebooks to study data science competition entries.\n"
   ]
  }
 ],
 "metadata": {
  "kernelspec": {
   "display_name": "Python 3",
   "language": "python",
   "name": "python3"
  },
  "language_info": {
   "codemirror_mode": {
    "name": "ipython",
    "version": 3
   },
   "file_extension": ".py",
   "mimetype": "text/x-python",
   "name": "python",
   "nbconvert_exporter": "python",
   "pygments_lexer": "ipython3",
   "version": "3.7.6"
  }
 },
 "nbformat": 4,
 "nbformat_minor": 5
}
